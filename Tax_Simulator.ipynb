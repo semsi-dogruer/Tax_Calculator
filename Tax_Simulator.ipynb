{
 "cells": [
  {
   "cell_type": "code",
   "execution_count": 4,
   "metadata": {},
   "outputs": [
    {
     "name": "stdout",
     "output_type": "stream",
     "text": [
      "Please provide your gross salary: 45286.94\n",
      "Enter '10' for 10%, '15' for 15%, or '20' for 20%: 15\n",
      "The amount of taxes you owe is 6793.041\n",
      "Thank you for using our tax software. Please visit us again soon.\n"
     ]
    }
   ],
   "source": [
    "while True:\n",
    "    try:\n",
    "        gross_salary = float(input('Please provide your gross salary: '))\n",
    "        break\n",
    "    except ValueError:\n",
    "        print('You have provided an invalid input. Please try again.')\n",
    "while True:\n",
    "    tax_bracket = input(\"Enter '10' for 10%, '15' for 15%, or '20' for 20%: \")\n",
    "    if(tax_bracket not in ('10','15','20')):\n",
    "        print('You entered an invalid input. You can only enter 10, 15 or 20.')\n",
    "    else:\n",
    "        if(tax_bracket == '10'):\n",
    "            tax_owed = gross_salary*.1\n",
    "        elif(tax_bracket == '15'):\n",
    "            tax_owed = gross_salary*.15\n",
    "        elif(tax_bracket == '20'):\n",
    "            tax_owed = gross_salary*.2\n",
    "        print('The amount of taxes you owe is',tax_owed)\n",
    "        print('Thank you for using our tax software. Please visit us again soon.')\n",
    "    break"
   ]
  },
  {
   "cell_type": "code",
   "execution_count": null,
   "metadata": {},
   "outputs": [],
   "source": []
  }
 ],
 "metadata": {
  "kernelspec": {
   "display_name": "Python 3",
   "language": "python",
   "name": "python3"
  },
  "language_info": {
   "codemirror_mode": {
    "name": "ipython",
    "version": 3
   },
   "file_extension": ".py",
   "mimetype": "text/x-python",
   "name": "python",
   "nbconvert_exporter": "python",
   "pygments_lexer": "ipython3",
   "version": "3.8.3"
  }
 },
 "nbformat": 4,
 "nbformat_minor": 4
}
